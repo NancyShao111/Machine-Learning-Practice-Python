{
 "cells": [
  {
   "cell_type": "code",
   "execution_count": 1,
   "metadata": {},
   "outputs": [],
   "source": [
    "import pandas as pd \n",
    "import numpy as np\n",
    "from sklearn.model_selection import train_test_split\n",
    "from sklearn.tree import DecisionTreeClassifier\n",
    "import matplotlib as mpl\n",
    "import matplotlib.pyplot as plt\n",
    "%matplotlib inline\n",
    "from sklearn import tree\n",
    "from sklearn.linear_model import LogisticRegression\n",
    "from sklearn.model_selection import GridSearchCV\n",
    "from sklearn.svm import LinearSVC\n",
    "from sklearn.preprocessing import StandardScaler\n",
    "from sklearn.model_selection import cross_val_score\n",
    "from sklearn.model_selection import ShuffleSplit\n",
    "from sklearn.pipeline import make_pipeline\n",
    "from sklearn.neighbors import KNeighborsClassifier\n",
    "from sklearn.ensemble import RandomForestClassifier"
   ]
  },
  {
   "cell_type": "code",
   "execution_count": 3,
   "metadata": {},
   "outputs": [
    {
     "data": {
      "text/html": [
       "<div>\n",
       "<style scoped>\n",
       "    .dataframe tbody tr th:only-of-type {\n",
       "        vertical-align: middle;\n",
       "    }\n",
       "\n",
       "    .dataframe tbody tr th {\n",
       "        vertical-align: top;\n",
       "    }\n",
       "\n",
       "    .dataframe thead th {\n",
       "        text-align: right;\n",
       "    }\n",
       "</style>\n",
       "<table border=\"1\" class=\"dataframe\">\n",
       "  <thead>\n",
       "    <tr style=\"text-align: right;\">\n",
       "      <th></th>\n",
       "      <th>id</th>\n",
       "      <th>abuse</th>\n",
       "      <th>status</th>\n",
       "      <th>unemrate</th>\n",
       "      <th>age</th>\n",
       "      <th>educ</th>\n",
       "      <th>married</th>\n",
       "      <th>famsize</th>\n",
       "      <th>white</th>\n",
       "      <th>exhealth</th>\n",
       "      <th>...</th>\n",
       "      <th>qrt2</th>\n",
       "      <th>qrt3</th>\n",
       "      <th>beertax</th>\n",
       "      <th>cigtax</th>\n",
       "      <th>ethanol</th>\n",
       "      <th>mothalc</th>\n",
       "      <th>fathalc</th>\n",
       "      <th>livealc</th>\n",
       "      <th>inwf</th>\n",
       "      <th>employ</th>\n",
       "    </tr>\n",
       "  </thead>\n",
       "  <tbody>\n",
       "    <tr>\n",
       "      <td>0</td>\n",
       "      <td>1</td>\n",
       "      <td>1</td>\n",
       "      <td>1</td>\n",
       "      <td>4.0</td>\n",
       "      <td>50</td>\n",
       "      <td>4</td>\n",
       "      <td>1</td>\n",
       "      <td>1</td>\n",
       "      <td>1</td>\n",
       "      <td>0</td>\n",
       "      <td>...</td>\n",
       "      <td>0</td>\n",
       "      <td>0</td>\n",
       "      <td>0.334</td>\n",
       "      <td>38.0</td>\n",
       "      <td>2.03946</td>\n",
       "      <td>0</td>\n",
       "      <td>0</td>\n",
       "      <td>0</td>\n",
       "      <td>0</td>\n",
       "      <td>0</td>\n",
       "    </tr>\n",
       "    <tr>\n",
       "      <td>1</td>\n",
       "      <td>2</td>\n",
       "      <td>0</td>\n",
       "      <td>3</td>\n",
       "      <td>4.0</td>\n",
       "      <td>37</td>\n",
       "      <td>12</td>\n",
       "      <td>1</td>\n",
       "      <td>5</td>\n",
       "      <td>1</td>\n",
       "      <td>0</td>\n",
       "      <td>...</td>\n",
       "      <td>0</td>\n",
       "      <td>0</td>\n",
       "      <td>0.334</td>\n",
       "      <td>38.0</td>\n",
       "      <td>2.03946</td>\n",
       "      <td>0</td>\n",
       "      <td>0</td>\n",
       "      <td>0</td>\n",
       "      <td>1</td>\n",
       "      <td>1</td>\n",
       "    </tr>\n",
       "    <tr>\n",
       "      <td>2</td>\n",
       "      <td>3</td>\n",
       "      <td>0</td>\n",
       "      <td>3</td>\n",
       "      <td>4.0</td>\n",
       "      <td>53</td>\n",
       "      <td>9</td>\n",
       "      <td>1</td>\n",
       "      <td>3</td>\n",
       "      <td>1</td>\n",
       "      <td>1</td>\n",
       "      <td>...</td>\n",
       "      <td>0</td>\n",
       "      <td>0</td>\n",
       "      <td>0.334</td>\n",
       "      <td>38.0</td>\n",
       "      <td>2.03946</td>\n",
       "      <td>0</td>\n",
       "      <td>0</td>\n",
       "      <td>0</td>\n",
       "      <td>1</td>\n",
       "      <td>1</td>\n",
       "    </tr>\n",
       "    <tr>\n",
       "      <td>3</td>\n",
       "      <td>4</td>\n",
       "      <td>0</td>\n",
       "      <td>3</td>\n",
       "      <td>3.3</td>\n",
       "      <td>59</td>\n",
       "      <td>11</td>\n",
       "      <td>1</td>\n",
       "      <td>1</td>\n",
       "      <td>1</td>\n",
       "      <td>1</td>\n",
       "      <td>...</td>\n",
       "      <td>0</td>\n",
       "      <td>0</td>\n",
       "      <td>0.240</td>\n",
       "      <td>26.0</td>\n",
       "      <td>2.44998</td>\n",
       "      <td>0</td>\n",
       "      <td>0</td>\n",
       "      <td>0</td>\n",
       "      <td>1</td>\n",
       "      <td>1</td>\n",
       "    </tr>\n",
       "    <tr>\n",
       "      <td>4</td>\n",
       "      <td>5</td>\n",
       "      <td>0</td>\n",
       "      <td>3</td>\n",
       "      <td>3.3</td>\n",
       "      <td>43</td>\n",
       "      <td>10</td>\n",
       "      <td>1</td>\n",
       "      <td>1</td>\n",
       "      <td>1</td>\n",
       "      <td>1</td>\n",
       "      <td>...</td>\n",
       "      <td>0</td>\n",
       "      <td>0</td>\n",
       "      <td>0.240</td>\n",
       "      <td>26.0</td>\n",
       "      <td>2.44998</td>\n",
       "      <td>0</td>\n",
       "      <td>1</td>\n",
       "      <td>1</td>\n",
       "      <td>1</td>\n",
       "      <td>1</td>\n",
       "    </tr>\n",
       "  </tbody>\n",
       "</table>\n",
       "<p>5 rows × 29 columns</p>\n",
       "</div>"
      ],
      "text/plain": [
       "   id  abuse  status  unemrate  age  educ  married  famsize  white  exhealth  \\\n",
       "0   1      1       1       4.0   50     4        1        1      1         0   \n",
       "1   2      0       3       4.0   37    12        1        5      1         0   \n",
       "2   3      0       3       4.0   53     9        1        3      1         1   \n",
       "3   4      0       3       3.3   59    11        1        1      1         1   \n",
       "4   5      0       3       3.3   43    10        1        1      1         1   \n",
       "\n",
       "   ...  qrt2  qrt3  beertax  cigtax  ethanol  mothalc  fathalc  livealc  inwf  \\\n",
       "0  ...     0     0    0.334    38.0  2.03946        0        0        0     0   \n",
       "1  ...     0     0    0.334    38.0  2.03946        0        0        0     1   \n",
       "2  ...     0     0    0.334    38.0  2.03946        0        0        0     1   \n",
       "3  ...     0     0    0.240    26.0  2.44998        0        0        0     1   \n",
       "4  ...     0     0    0.240    26.0  2.44998        0        1        1     1   \n",
       "\n",
       "   employ  \n",
       "0       0  \n",
       "1       1  \n",
       "2       1  \n",
       "3       1  \n",
       "4       1  \n",
       "\n",
       "[5 rows x 29 columns]"
      ]
     },
     "execution_count": 3,
     "metadata": {},
     "output_type": "execute_result"
    }
   ],
   "source": [
    "# Load data set\n",
    "alcohol = pd.read_csv(\"alcohol.txt\")\n",
    "# Remove squaredal terms - these terms i\n",
    "alcohol.drop(['agesq','beertaxsq','cigtaxsq','ethanolsq','educsq'],axis=1,inplace=True)\n",
    "alcohol.head()"
   ]
  },
  {
   "cell_type": "code",
   "execution_count": 4,
   "metadata": {},
   "outputs": [
    {
     "data": {
      "text/plain": [
       "(array([8848.,    0.,    0.,    0.,    0.,    0.,    0.,    0.,    0.,\n",
       "         974.]),\n",
       " array([0. , 0.1, 0.2, 0.3, 0.4, 0.5, 0.6, 0.7, 0.8, 0.9, 1. ]),\n",
       " <a list of 10 Patch objects>)"
      ]
     },
     "execution_count": 4,
     "metadata": {},
     "output_type": "execute_result"
    },
    {
     "data": {
      "image/png": "[encoded data removed]",
      "text/plain": [
       "<Figure size 432x288 with 1 Axes>"
      ]
     },
     "metadata": {
      "needs_background": "light"
     },
     "output_type": "display_data"
    }
   ],
   "source": [
    "# this plot shows how unbalanced the data set is\n",
    "plt.hist(alcohol.abuse)"
   ]
  },
  {
   "cell_type": "code",
   "execution_count": 5,
   "metadata": {},
   "outputs": [
    {
     "name": "stdout",
     "output_type": "stream",
     "text": [
      "8848\n",
      "974\n"
     ]
    }
   ],
   "source": [
    "# generate special classes for types\n",
    "count0, count1 = alcohol.abuse.value_counts()\n",
    "aclass0 = alcohol[alcohol.abuse==0]\n",
    "aclass1 = alcohol[alcohol.abuse==1]\n",
    "print(count0)\n",
    "print(count1)"
   ]
  },
  {
   "cell_type": "code",
   "execution_count": 6,
   "metadata": {},
   "outputs": [],
   "source": [
    "# under sampling\n",
    "# Generate sample of class 0 types matching number of class 1 types\n",
    "under0 = aclass0.sample(count1)\n",
    "alcoholus = pd.concat([under0,aclass1],axis=0)"
   ]
  },
  {
   "cell_type": "code",
   "execution_count": 7,
   "metadata": {},
   "outputs": [
    {
     "data": {
      "text/plain": [
       "(array([974.,   0.,   0.,   0.,   0.,   0.,   0.,   0.,   0., 974.]),\n",
       " array([0. , 0.1, 0.2, 0.3, 0.4, 0.5, 0.6, 0.7, 0.8, 0.9, 1. ]),\n",
       " <a list of 10 Patch objects>)"
      ]
     },
     "execution_count": 7,
     "metadata": {},
     "output_type": "execute_result"
    },
    {
     "data": {
      "image/png": "[encoded data removed]",
      "text/plain": [
       "<Figure size 432x288 with 1 Axes>"
      ]
     },
     "metadata": {
      "needs_background": "light"
     },
     "output_type": "display_data"
    }
   ],
   "source": [
    "plt.hist(alcoholus.abuse)"
   ]
  },
  {
   "cell_type": "code",
   "execution_count": 8,
   "metadata": {},
   "outputs": [
    {
     "name": "stdout",
     "output_type": "stream",
     "text": [
      "0.5\n"
     ]
    },
    {
     "data": {
      "text/html": [
       "<div>\n",
       "<style scoped>\n",
       "    .dataframe tbody tr th:only-of-type {\n",
       "        vertical-align: middle;\n",
       "    }\n",
       "\n",
       "    .dataframe tbody tr th {\n",
       "        vertical-align: top;\n",
       "    }\n",
       "\n",
       "    .dataframe thead th {\n",
       "        text-align: right;\n",
       "    }\n",
       "</style>\n",
       "<table border=\"1\" class=\"dataframe\">\n",
       "  <thead>\n",
       "    <tr style=\"text-align: right;\">\n",
       "      <th></th>\n",
       "      <th>status</th>\n",
       "      <th>unemrate</th>\n",
       "      <th>age</th>\n",
       "      <th>educ</th>\n",
       "      <th>married</th>\n",
       "      <th>famsize</th>\n",
       "      <th>white</th>\n",
       "      <th>exhealth</th>\n",
       "      <th>vghealth</th>\n",
       "      <th>goodhealth</th>\n",
       "      <th>...</th>\n",
       "      <th>qrt2</th>\n",
       "      <th>qrt3</th>\n",
       "      <th>beertax</th>\n",
       "      <th>cigtax</th>\n",
       "      <th>ethanol</th>\n",
       "      <th>mothalc</th>\n",
       "      <th>fathalc</th>\n",
       "      <th>livealc</th>\n",
       "      <th>inwf</th>\n",
       "      <th>employ</th>\n",
       "    </tr>\n",
       "  </thead>\n",
       "  <tbody>\n",
       "    <tr>\n",
       "      <td>2904</td>\n",
       "      <td>3</td>\n",
       "      <td>7.3</td>\n",
       "      <td>25</td>\n",
       "      <td>16</td>\n",
       "      <td>0</td>\n",
       "      <td>1</td>\n",
       "      <td>1</td>\n",
       "      <td>1</td>\n",
       "      <td>0</td>\n",
       "      <td>0</td>\n",
       "      <td>...</td>\n",
       "      <td>1</td>\n",
       "      <td>0</td>\n",
       "      <td>0.446</td>\n",
       "      <td>20.5</td>\n",
       "      <td>1.91736</td>\n",
       "      <td>0</td>\n",
       "      <td>0</td>\n",
       "      <td>0</td>\n",
       "      <td>1</td>\n",
       "      <td>1</td>\n",
       "    </tr>\n",
       "    <tr>\n",
       "      <td>2979</td>\n",
       "      <td>3</td>\n",
       "      <td>6.8</td>\n",
       "      <td>45</td>\n",
       "      <td>18</td>\n",
       "      <td>1</td>\n",
       "      <td>3</td>\n",
       "      <td>0</td>\n",
       "      <td>0</td>\n",
       "      <td>1</td>\n",
       "      <td>0</td>\n",
       "      <td>...</td>\n",
       "      <td>1</td>\n",
       "      <td>0</td>\n",
       "      <td>0.158</td>\n",
       "      <td>20.0</td>\n",
       "      <td>2.12700</td>\n",
       "      <td>0</td>\n",
       "      <td>0</td>\n",
       "      <td>0</td>\n",
       "      <td>1</td>\n",
       "      <td>1</td>\n",
       "    </tr>\n",
       "    <tr>\n",
       "      <td>7279</td>\n",
       "      <td>3</td>\n",
       "      <td>7.3</td>\n",
       "      <td>28</td>\n",
       "      <td>2</td>\n",
       "      <td>1</td>\n",
       "      <td>4</td>\n",
       "      <td>1</td>\n",
       "      <td>1</td>\n",
       "      <td>0</td>\n",
       "      <td>0</td>\n",
       "      <td>...</td>\n",
       "      <td>0</td>\n",
       "      <td>1</td>\n",
       "      <td>0.446</td>\n",
       "      <td>20.5</td>\n",
       "      <td>1.91736</td>\n",
       "      <td>0</td>\n",
       "      <td>0</td>\n",
       "      <td>0</td>\n",
       "      <td>1</td>\n",
       "      <td>1</td>\n",
       "    </tr>\n",
       "    <tr>\n",
       "      <td>216</td>\n",
       "      <td>3</td>\n",
       "      <td>5.1</td>\n",
       "      <td>55</td>\n",
       "      <td>12</td>\n",
       "      <td>1</td>\n",
       "      <td>4</td>\n",
       "      <td>1</td>\n",
       "      <td>1</td>\n",
       "      <td>0</td>\n",
       "      <td>0</td>\n",
       "      <td>...</td>\n",
       "      <td>0</td>\n",
       "      <td>0</td>\n",
       "      <td>0.240</td>\n",
       "      <td>18.0</td>\n",
       "      <td>1.79757</td>\n",
       "      <td>0</td>\n",
       "      <td>0</td>\n",
       "      <td>0</td>\n",
       "      <td>1</td>\n",
       "      <td>1</td>\n",
       "    </tr>\n",
       "    <tr>\n",
       "      <td>6106</td>\n",
       "      <td>3</td>\n",
       "      <td>5.3</td>\n",
       "      <td>41</td>\n",
       "      <td>12</td>\n",
       "      <td>1</td>\n",
       "      <td>3</td>\n",
       "      <td>1</td>\n",
       "      <td>1</td>\n",
       "      <td>0</td>\n",
       "      <td>0</td>\n",
       "      <td>...</td>\n",
       "      <td>0</td>\n",
       "      <td>1</td>\n",
       "      <td>0.090</td>\n",
       "      <td>10.0</td>\n",
       "      <td>2.40819</td>\n",
       "      <td>0</td>\n",
       "      <td>1</td>\n",
       "      <td>0</td>\n",
       "      <td>1</td>\n",
       "      <td>1</td>\n",
       "    </tr>\n",
       "  </tbody>\n",
       "</table>\n",
       "<p>5 rows × 27 columns</p>\n",
       "</div>"
      ],
      "text/plain": [
       "      status  unemrate  age  educ  married  famsize  white  exhealth  \\\n",
       "2904       3       7.3   25    16        0        1      1         1   \n",
       "2979       3       6.8   45    18        1        3      0         0   \n",
       "7279       3       7.3   28     2        1        4      1         1   \n",
       "216        3       5.1   55    12        1        4      1         1   \n",
       "6106       3       5.3   41    12        1        3      1         1   \n",
       "\n",
       "      vghealth  goodhealth  ...  qrt2  qrt3  beertax  cigtax  ethanol  \\\n",
       "2904         0           0  ...     1     0    0.446    20.5  1.91736   \n",
       "2979         1           0  ...     1     0    0.158    20.0  2.12700   \n",
       "7279         0           0  ...     0     1    0.446    20.5  1.91736   \n",
       "216          0           0  ...     0     0    0.240    18.0  1.79757   \n",
       "6106         0           0  ...     0     1    0.090    10.0  2.40819   \n",
       "\n",
       "      mothalc  fathalc  livealc  inwf  employ  \n",
       "2904        0        0        0     1       1  \n",
       "2979        0        0        0     1       1  \n",
       "7279        0        0        0     1       1  \n",
       "216         0        0        0     1       1  \n",
       "6106        0        1        0     1       1  \n",
       "\n",
       "[5 rows x 27 columns]"
      ]
     },
     "execution_count": 8,
     "metadata": {},
     "output_type": "execute_result"
    }
   ],
   "source": [
    "# set up data, and check if balanced\n",
    "y = alcoholus.abuse\n",
    "X = alcoholus.iloc[:,2:33]\n",
    "print(np.mean(y))\n",
    "X.head()"
   ]
  },
  {
   "cell_type": "code",
   "execution_count": 19,
   "metadata": {},
   "outputs": [
    {
     "name": "stdout",
     "output_type": "stream",
     "text": [
      "    rank_test_score  mean_test_score param_logisticregression__C\n",
      "0                15         0.490862                       1e-05\n",
      "1                14         0.540760                      0.0001\n",
      "2                 1         0.571807                       0.001\n",
      "3                13         0.570554                        0.01\n",
      "4                 2         0.570965                         0.1\n",
      "5                 3         0.570862                           1\n",
      "6                12         0.570760                          10\n",
      "7                 4         0.570780                         100\n",
      "8                 4         0.570780                        1000\n",
      "9                 4         0.570780                       10000\n",
      "10                4         0.570780                      100000\n",
      "11                4         0.570780                       1e+06\n",
      "12                4         0.570780                       1e+07\n",
      "13                4         0.570780                       1e+08\n",
      "14                4         0.570780                       1e+09\n"
     ]
    },
    {
     "data": {
      "image/png": "[encoded data removed]",
      "text/plain": [
       "<Figure size 432x288 with 1 Axes>"
      ]
     },
     "metadata": {
      "needs_background": "light"
     },
     "output_type": "display_data"
    }
   ],
   "source": [
    "#Logistic regression\n",
    "\n",
    "#monte-carlo\n",
    "nmc = 100\n",
    "\n",
    "# List of C's to try\n",
    "Clist = np.power(10.,range(-5,10))\n",
    "\n",
    "# Build pipeline\n",
    "#   Note: model names are given names, but all small letters (odd system)\n",
    "fullModel = make_pipeline(StandardScaler(),LogisticRegression(solver='lbfgs'))\n",
    "\n",
    "# set up dictionary for grid search\n",
    "#  dictionary name must now include pipeline function name then __\n",
    "param_grid={'logisticregression__C':Clist,'logisticregression__max_iter':[3000]}\n",
    "# set up cross-validation shuffles\n",
    "cvf = ShuffleSplit(test_size=0.25,n_splits=nmc)\n",
    "# set up search\n",
    "grid_search=GridSearchCV(fullModel,param_grid,cv=cvf,return_train_score=True)\n",
    "# implement search\n",
    "grid_search.fit(X,y)\n",
    "# move results into DataFrame\n",
    "results = pd.DataFrame(grid_search.cv_results_)\n",
    "print(results[['rank_test_score','mean_test_score','param_logisticregression__C']])\n",
    "\n",
    "#plot the result\n",
    "plt.semilogx(Clist,results[['mean_test_score']],label = \"test_score\")\n",
    "plt.legend()\n",
    "plt.grid()"
   ]
  },
  {
   "cell_type": "code",
   "execution_count": 24,
   "metadata": {},
   "outputs": [
    {
     "name": "stdout",
     "output_type": "stream",
     "text": [
      "The optimized C is 0.001 and the test score is 0.572.\n"
     ]
    }
   ],
   "source": [
    "result = results[['rank_test_score','mean_test_score','param_logisticregression__C']]\n",
    "C = result[result.rank_test_score==1].iat[0,2]\n",
    "score = result[result.rank_test_score==1].iat[0,1]\n",
    "print(\"The optimized C is\", C, \"and the test score is {:.3f}.\".format(score))"
   ]
  },
  {
   "cell_type": "code",
   "execution_count": 22,
   "metadata": {},
   "outputs": [
    {
     "name": "stdout",
     "output_type": "stream",
     "text": [
      "   rank_test_score  mean_test_score param_kneighborsclassifier__n_neighbors\n",
      "0                7         0.516715                                      10\n",
      "1                3         0.537207                                      50\n",
      "2                1         0.546468                                     100\n",
      "3                2         0.539713                                     200\n",
      "4                4         0.533778                                     300\n",
      "5                5         0.528645                                     400\n",
      "6                6         0.525359                                     500\n"
     ]
    },
    {
     "data": {
      "image/png": "[encoded data removed]",
      "text/plain": [
       "<Figure size 432x288 with 1 Axes>"
      ]
     },
     "metadata": {
      "needs_background": "light"
     },
     "output_type": "display_data"
    }
   ],
   "source": [
    "#KNN\n",
    "\n",
    "#range of neighbors as required\n",
    "neighbors_settings = [10,50,100,200,300,400,500]\n",
    "#monte-carlo\n",
    "nmc=100\n",
    "\n",
    "#   Note: model names are given names, but all small letters\n",
    "fullModel_knn = make_pipeline(StandardScaler(),KNeighborsClassifier())\n",
    "# set up dictionary for grid search\n",
    "#  dictionary name must now include pipeline function name then __\n",
    "param_grid={'kneighborsclassifier__n_neighbors':[10,50,100,200,300,400,500]}\n",
    "# set up cross-validation shuffles\n",
    "cvf = ShuffleSplit(test_size=0.25,n_splits=nmc)\n",
    "# set up search\n",
    "grid_search=GridSearchCV(fullModel_knn,param_grid,cv=cvf,return_train_score=True)\n",
    "# implement search\n",
    "grid_search.fit(X,y)\n",
    "# move results into DataFrame\n",
    "results_knn = pd.DataFrame(grid_search.cv_results_)\n",
    "print(results_knn[['rank_test_score','mean_test_score','param_kneighborsclassifier__n_neighbors']])\n",
    "\n",
    "plt.plot(neighbors_settings,results_knn[['mean_test_score']],label=\"test score\")\n",
    "plt.legend()\n",
    "plt.grid()"
   ]
  },
  {
   "cell_type": "code",
   "execution_count": 25,
   "metadata": {},
   "outputs": [
    {
     "name": "stdout",
     "output_type": "stream",
     "text": [
      "The optimized k is 100 and the test score is 0.546.\n"
     ]
    }
   ],
   "source": [
    "result_knn = results_knn[['rank_test_score','mean_test_score','param_kneighborsclassifier__n_neighbors']]\n",
    "k_knn = result_knn[result_knn.rank_test_score==1].iat[0,2]\n",
    "score_knn = result_knn[result_knn.rank_test_score==1].iat[0,1]\n",
    "print(\"The optimized k is\", k_knn,\"and the test score is {:.3f}.\".format(score_knn))"
   ]
  },
  {
   "cell_type": "code",
   "execution_count": 9,
   "metadata": {},
   "outputs": [
    {
     "name": "stdout",
     "output_type": "stream",
     "text": [
      "    rank_test_score  mean_test_score param_max_features param_max_depth\n",
      "0                50         0.545832                  1               2\n",
      "1                48         0.552546                  2               2\n",
      "2                41         0.553450                  3               2\n",
      "3                42         0.553409                  4               2\n",
      "4                43         0.553285                  5               2\n",
      "5                34         0.554846                  6               2\n",
      "6                38         0.553860                  7               2\n",
      "7                35         0.554497                  8               2\n",
      "8                45         0.552957                  9               2\n",
      "9                37         0.554456                 10               2\n",
      "10               33         0.554867                  1               4\n",
      "11               24         0.557454                  2               4\n",
      "12               21         0.558768                  3               4\n",
      "13               15         0.560164                  4               4\n",
      "14                7         0.561786                  5               4\n",
      "15               16         0.560000                  6               4\n",
      "16               14         0.560349                  7               4\n",
      "17               12         0.560575                  8               4\n",
      "18                5         0.562464                  9               4\n",
      "19                6         0.562177                 10               4\n",
      "20               46         0.552669                  1               6\n",
      "21               20         0.558932                  2               6\n",
      "22               19         0.559384                  3               6\n",
      "23               11         0.560657                  4               6\n",
      "24                9         0.560924                  5               6\n",
      "25                4         0.562875                  6               6\n",
      "26               10         0.560842                  7               6\n",
      "27                1         0.563943                  8               6\n",
      "28                3         0.562977                  9               6\n",
      "29                2         0.563101                 10               6\n",
      "30               44         0.553142                  1               8\n",
      "31               40         0.553737                  2               8\n",
      "32               26         0.557002                  3               8\n",
      "33               25         0.557064                  4               8\n",
      "34               23         0.558049                  5               8\n",
      "35               22         0.558172                  6               8\n",
      "36               18         0.559528                  7               8\n",
      "37               17         0.559713                  8               8\n",
      "38                8         0.561232                  9               8\n",
      "39               13         0.560513                 10               8\n",
      "40               49         0.547680                  1              10\n",
      "41               39         0.553758                  2              10\n",
      "42               47         0.552608                  3              10\n",
      "43               29         0.555688                  4              10\n",
      "44               36         0.554476                  5              10\n",
      "45               27         0.556099                  6              10\n",
      "46               28         0.556057                  7              10\n",
      "47               32         0.555113                  8              10\n",
      "48               29         0.555688                  9              10\n",
      "49               31         0.555339                 10              10\n"
     ]
    }
   ],
   "source": [
    "#random forest classifier\n",
    "\n",
    "nmc = 100\n",
    "#  Note:  no need for scaling, back to simple parameters\n",
    "# set up dictionary for grid search\n",
    "param_grid={'max_features':range(1,11),'max_depth':range(2,12,2),'n_estimators':[100]}\n",
    "# set up cross-validation shuffles\n",
    "cvf = ShuffleSplit(test_size=0.25,n_splits=nmc)\n",
    "# set up search\n",
    "grid_search=GridSearchCV(RandomForestClassifier(),param_grid,cv=cvf,return_train_score=True)\n",
    "# implement search\n",
    "grid_search.fit(X,y)\n",
    "# move results into DataFrame\n",
    "results = pd.DataFrame(grid_search.cv_results_)\n",
    "print(results[['rank_test_score','mean_test_score','param_max_features','param_max_depth']])"
   ]
  },
  {
   "cell_type": "code",
   "execution_count": 10,
   "metadata": {},
   "outputs": [
    {
     "name": "stdout",
     "output_type": "stream",
     "text": [
      "The optimized feature size is 8 , tree depth 6 and the test score is 0.5639.\n"
     ]
    }
   ],
   "source": [
    "result = results[['rank_test_score','mean_test_score','param_max_features','param_max_depth']]\n",
    "max_feature = result[result.rank_test_score==1].iat[0,2]\n",
    "depth = result[result.rank_test_score==1].iat[0,3]\n",
    "score_tree = result[result.rank_test_score==1].iat[0,1]\n",
    "print(\"The optimized feature size is\",max_feature,\", tree depth\", depth,\"and the test score is {:.4f}.\".format(score_tree))"
   ]
  },
  {
   "cell_type": "code",
   "execution_count": 11,
   "metadata": {},
   "outputs": [],
   "source": [
    "#why no need for any rescaling for this model?\n",
    "#Because each node in the tree is simply splitting a sorted list and not comparing one \n",
    "#feature's value to another feature's value."
   ]
  }
 ],
 "metadata": {
  "kernelspec": {
   "display_name": "Python 3",
   "language": "python",
   "name": "python3"
  },
  "language_info": {
   "codemirror_mode": {
    "name": "ipython",
    "version": 3
   },
   "file_extension": ".py",
   "mimetype": "text/x-python",
   "name": "python",
   "nbconvert_exporter": "python",
   "pygments_lexer": "ipython3",
   "version": "3.7.4"
  }
 },
 "nbformat": 4,
 "nbformat_minor": 2
}
